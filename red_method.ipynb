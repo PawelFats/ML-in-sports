{
 "cells": [
  {
   "cell_type": "code",
   "execution_count": 25,
   "metadata": {},
   "outputs": [],
   "source": [
    "import pandas as pd\n"
   ]
  },
  {
   "cell_type": "code",
   "execution_count": 26,
   "metadata": {},
   "outputs": [],
   "source": [
    "df_compile_stats = pd.read_csv('data/targeted/compile_stats.csv')\n",
    "df_goalk_stats = pd.read_csv('data/targeted/goalkeepers_data.csv')\n"
   ]
  },
  {
   "cell_type": "code",
   "execution_count": null,
   "metadata": {},
   "outputs": [],
   "source": [
    "def calculate_player_stats(df, output_file=r\"data\\processed\\red_method\\player_stats.csv\"):\n",
    "    # Фильтруем игроков с амплуа 9 и 10\n",
    "    df_filtered = df[df['amplua'].isin([9, 10])]\n",
    "    \n",
    "    # Группируем по игроку и амплуа, считаем количество игр и суммируем показатели\n",
    "    player_stats = df_filtered.groupby(['ID player', 'amplua']).agg(\n",
    "        games=('ID game', 'nunique'),  # Количество уникальных игр\n",
    "        goals=('goals', 'sum'),\n",
    "        assists=('assists', 'sum'),\n",
    "        throws_by=('throws by', 'sum'),\n",
    "        shot_on_target=('a shot on target', 'sum'),\n",
    "        blocked_throws=('blocked throws', 'sum'),\n",
    "        p_m=('p/m', 'sum'),\n",
    "        total_time=('total time on ice', 'sum')\n",
    "    ).reset_index()\n",
    "    \n",
    "    # Сохраняем в CSV\n",
    "    player_stats.to_csv(output_file, index=False)\n",
    "    print(f\"Файл сохранен: {output_file}\")\n",
    "    \n",
    "    return player_stats\n",
    "\n",
    "def calculate_points(df, coefficient, amplua):\n",
    "    df_filtered = df[df['amplua'] == amplua].copy()\n",
    "    \n",
    "    # Рассчитываем очки по каждому показателю\n",
    "    for col in ['goals', 'assists', 'throws_by', 'shot_on_target', 'blocked_throws', 'p_m']:\n",
    "        df_filtered[f'p_{col}'] = ((df_filtered[col] + coefficient * df_filtered['games']) ** 2) / df_filtered['games']\n",
    "    \n",
    "    return round(df_filtered, 2)\n",
    "\n",
    "def process_and_save(df, output_file=r\"data\\processed\\red_method\\player_stats_with_points.csv\"):\n",
    "    df_stats = calculate_player_stats(df)\n",
    "    \n",
    "    # Вычисляем очки для каждого амплуа с соответствующими коэффициентами\n",
    "    df_defenders = calculate_points(df_stats, 2/3, 9)\n",
    "    df_forwards = calculate_points(df_stats, 1/6, 10)\n",
    "    \n",
    "    # Объединяем результаты\n",
    "    df_final = pd.concat([df_defenders, df_forwards])\n",
    "    \n",
    "    df_final = df_final.reindex(columns=['ID player', 'amplua', 'goals', 'p_goals', 'assists', 'p_assists',  'throws_by', 'p_throws_by', 'shot_on_target', 'p_shot_on_target', \n",
    "                                         'blocked_throws', 'p_blocked_throws', 'p_m', 'p_p_m'])\n",
    "\n",
    "    # Сохраняем в CSV\n",
    "    df_final.to_csv(output_file, index=False)\n",
    "    print(f\"Файл сохранен: {output_file}\")\n",
    "    \n",
    "    return df_final\n"
   ]
  },
  {
   "cell_type": "code",
   "execution_count": 28,
   "metadata": {},
   "outputs": [
    {
     "name": "stdout",
     "output_type": "stream",
     "text": [
      "Файл сохранен: data\\processed\\red_method\\player_stats.csv\n",
      "Файл сохранен: data\\processed\\red_method\\player_stats_with_points.csv\n"
     ]
    }
   ],
   "source": [
    "rezult_rating_red = process_and_save(df_compile_stats)"
   ]
  }
 ],
 "metadata": {
  "kernelspec": {
   "display_name": "base",
   "language": "python",
   "name": "python3"
  },
  "language_info": {
   "codemirror_mode": {
    "name": "ipython",
    "version": 3
   },
   "file_extension": ".py",
   "mimetype": "text/x-python",
   "name": "python",
   "nbconvert_exporter": "python",
   "pygments_lexer": "ipython3",
   "version": "3.11.7"
  }
 },
 "nbformat": 4,
 "nbformat_minor": 2
}
