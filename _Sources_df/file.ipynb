{
 "cells": [
  {
   "cell_type": "code",
   "execution_count": 2,
   "id": "293ca76e-55b1-4e19-80e1-862affdfa948",
   "metadata": {},
   "outputs": [],
   "source": [
    "import pandas as pd"
   ]
  },
  {
   "cell_type": "code",
   "execution_count": 3,
   "id": "57a0bd12-fa4d-4cd6-b155-71831b15a0ae",
   "metadata": {},
   "outputs": [
    {
     "name": "stdout",
     "output_type": "stream",
     "text": [
      "Файл сохранён в UTF-8.\n"
     ]
    }
   ],
   "source": [
    "# Загружаем данные с указанием исходной кодировки\n",
    "file_path = 'teams_name.csv'\n",
    "teams_name = pd.read_csv(file_path, header=None, encoding='cp1251', sep=';')\n",
    "\n",
    "# Присваиваем названия столбцам\n",
    "teams_name.columns = ['ID team', 'TEAM_NAME']\n",
    "\n",
    "# Сохраняем таблицу в UTF-8\n",
    "output_path = 'teams_name_utf8.csv'\n",
    "teams_name.to_csv(output_path, index=False, encoding='utf-8')\n",
    "\n",
    "print(\"Файл сохранён в UTF-8.\")\n"
   ]
  },
  {
   "cell_type": "code",
   "execution_count": null,
   "id": "72234a3d-3db1-46d2-9ce2-33ed8e45dae8",
   "metadata": {},
   "outputs": [],
   "source": []
  }
 ],
 "metadata": {
  "kernelspec": {
   "display_name": "Python 3 (ipykernel)",
   "language": "python",
   "name": "python3"
  },
  "language_info": {
   "codemirror_mode": {
    "name": "ipython",
    "version": 3
   },
   "file_extension": ".py",
   "mimetype": "text/x-python",
   "name": "python",
   "nbconvert_exporter": "python",
   "pygments_lexer": "ipython3",
   "version": "3.11.7"
  }
 },
 "nbformat": 4,
 "nbformat_minor": 5
}
