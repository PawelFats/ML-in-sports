{
 "cells": [
  {
   "cell_type": "code",
   "execution_count": 1,
   "id": "fb145744-5b8b-4aec-a321-b85f27237105",
   "metadata": {},
   "outputs": [],
   "source": [
    "import pandas as pd"
   ]
  },
  {
   "cell_type": "code",
   "execution_count": 2,
   "id": "434f621c-b03a-4a9a-a4e1-0616b5c82149",
   "metadata": {},
   "outputs": [],
   "source": [
    "df_plus_minus = pd.read_csv(\"Sources_df/game_plus_minus.csv\", sep=\";\")\n",
    "df_game_history = pd.read_csv(\"Sources_df/game_history.csv\", sep=\";\")"
   ]
  },
  {
   "cell_type": "code",
   "execution_count": 3,
   "id": "efaabcae-b41a-4e31-8f26-1c38192b1458",
   "metadata": {},
   "outputs": [
    {
     "name": "stdout",
     "output_type": "stream",
     "text": [
      "Количество удаленных строк: 6705\n",
      "Размерность таблицы после удаления неполных событий: (300748, 7)\n",
      "Количество событий с неполными данными: 19\n",
      "Количество игр с неполными событиями: 4790\n",
      "Процент игр с неполными данными: 98.89%\n"
     ]
    }
   ],
   "source": [
    "#Валидация данных, из таблицы +/-, проверка на пустые ID team, на кол-во игрков в одном событии, а также, чтобы было больше одной\n",
    "#команды в одном событии\n",
    "# Читаем данные из game_plus_minus.csv\n",
    "game_plus_minus = df_plus_minus\n",
    "\n",
    "def count_and_remove_incomplete_events(game_plus_minus):\n",
    "    # Удаляем строки, в которых ID team равен 0\n",
    "    game_plus_minus_cleaned = game_plus_minus[game_plus_minus['ID team'] != 0]\n",
    "    \n",
    "    # Считаем количество строк с не полными данными до удаления\n",
    "    incomplete_events_before = len(game_plus_minus) - len(game_plus_minus_cleaned)\n",
    "    \n",
    "    # Сгруппируем данные по столбцам 'ID event' и 'ID team' и посчитаем количество строк в каждой группе\n",
    "    event_team_row_counts = game_plus_minus_cleaned.groupby(['ID event', 'ID team']).size().reset_index(name='row_count')\n",
    "    \n",
    "    # Проверяем, если в одном событии количество разных команд не равно 2, то удаляем это событие\n",
    "    event_teams_counts = event_team_row_counts.groupby('ID event').size()\n",
    "    incomplete_event_ids = event_teams_counts[event_teams_counts != 2].index\n",
    "    game_plus_minus_cleaned = game_plus_minus_cleaned[~game_plus_minus_cleaned['ID event'].isin(incomplete_event_ids)]\n",
    "    \n",
    "    # Проверяем, чтобы в одном событии в каждой команде было не менее трех игроков, если их меньше, то удаляем это событие\n",
    "    event_player_counts = game_plus_minus_cleaned.groupby(['ID event', 'ID team'])['ID player'].nunique().reset_index(name='player_count')\n",
    "    incomplete_event_ids = event_player_counts[event_player_counts['player_count'] < 3]['ID event'].unique()\n",
    "    game_plus_minus_cleaned = game_plus_minus_cleaned[~game_plus_minus_cleaned['ID event'].isin(incomplete_event_ids)]\n",
    "    \n",
    "    # Выводим информацию о количестве удаленных строк и итоговой размерности таблицы\n",
    "    removed_rows_count = len(game_plus_minus) - len(game_plus_minus_cleaned)\n",
    "    print(f\"Количество удаленных строк: {removed_rows_count}\")\n",
    "    print(f\"Размерность таблицы после удаления неполных событий: {game_plus_minus_cleaned.shape}\")\n",
    "    \n",
    "    # Считаем количество удаленных ID event и количество игр с неполными данными\n",
    "    incomplete_events_after = len(incomplete_event_ids)\n",
    "    incomplete_games = len(game_plus_minus_cleaned['ID game'].unique())\n",
    "    \n",
    "    # Выводим информацию о количестве удаленных ID event и количестве игр с неполными данными\n",
    "    print(f\"Количество событий с неполными данными: {incomplete_events_after}\")\n",
    "    print(f\"Количество игр с неполными событиями: {incomplete_games}\")\n",
    "    \n",
    "    # Считаем процент игр с неполными данными\n",
    "    total_games = len(game_plus_minus['ID game'].unique())\n",
    "    incomplete_games_percentage = (incomplete_games / total_games) * 100\n",
    "    \n",
    "    # Выводим процент игр с неполными данными\n",
    "    print(f\"Процент игр с неполными данными: {incomplete_games_percentage:.2f}%\")\n",
    "    \n",
    "    return game_plus_minus_cleaned\n",
    "\n",
    "# Применяем функцию к таблице game_plus_minus\n",
    "game_plus_minus_cleaned = count_and_remove_incomplete_events(game_plus_minus)\n",
    "\n",
    "df_plus_minus = game_plus_minus_cleaned\n",
    "# Сохраняем полученные данные в новый файл\n",
    "#game_plus_minus_cleaned.to_csv('Temp_df/game_plus_minus_d.csv', index=False)"
   ]
  },
  {
   "cell_type": "code",
   "execution_count": 4,
   "id": "c5f39efd-325a-436c-bef3-f5aee310155c",
   "metadata": {},
   "outputs": [
    {
     "name": "stdout",
     "output_type": "stream",
     "text": [
      "Progress: 102.23% complete\r"
     ]
    }
   ],
   "source": [
    "# Создаем пустой DataFrame для хранения результатов\n",
    "df_pm = pd.DataFrame(columns=['ID season', 'ID game', 'ID team', 'ID player', 'p/m'])\n",
    "\n",
    "# Создаем пустой словарь для хранения информации о том, какие игроки уже были учтены в каждой игре\n",
    "players_in_game = {}\n",
    "\n",
    "# Создаем пустой словарь для хранения информации о командах каждого игрока и номере сезона\n",
    "player_teams = {}\n",
    "\n",
    "# Итерируемся по строкам в df_plus_minus\n",
    "for idx, row in df_plus_minus.iterrows():\n",
    "    game_id = row['ID game']\n",
    "    team_id = row['ID team']\n",
    "    player_id = row['ID player']\n",
    "    season_id = row['ID season']\n",
    "    scoring_team = row['the scoring team']\n",
    "    pm = 1 if team_id == scoring_team else -1  # Плюс или минус в зависимости от команды, забившей гол\n",
    "    \n",
    "    # Проверяем, был ли игрок уже учтен в этой игре\n",
    "    if (game_id, player_id) not in players_in_game:\n",
    "        # Если игрока нет, добавляем его в словарь результатов\n",
    "        players_in_game[(game_id, player_id)] = pm\n",
    "        \n",
    "    # Проверяем, есть ли уже информация о команде и сезоне для этого игрока\n",
    "    if (game_id, player_id) not in player_teams:\n",
    "        player_teams[(game_id, player_id)] = {'team_id': team_id, 'season_id': season_id, 'game_id': game_id}\n",
    " \n",
    "    else:\n",
    "        # Если игрок уже есть, обновляем его плюс-минус\n",
    "        players_in_game[(game_id, player_id)] += pm\n",
    "\n",
    "# Создаем список DataFrame для каждого игрока\n",
    "dfs = []\n",
    "for (game_id, player_id), pm in players_in_game.items():\n",
    "    dfs.append(pd.DataFrame([{'ID season': player_teams[(game_id, player_id)]['season_id'], \n",
    "                              'ID game': game_id,\n",
    "                              'ID team': player_teams[(game_id, player_id)]['team_id'],  \n",
    "                              'ID player': player_id,\n",
    "                              'p/m': pm}]))\n",
    "\n",
    "# Объединяем все DataFrame в один\n",
    "df_pm = pd.concat(dfs, ignore_index=True)\n",
    "\n",
    "# Сохраняем результат в файл\n",
    "df_pm.to_csv('Temp_df/plus_minus_player_game.csv', index=False)\n"
   ]
  },
  {
   "cell_type": "code",
   "execution_count": null,
   "id": "1f279328-da1c-4360-bf57-d098116d49d9",
   "metadata": {},
   "outputs": [],
   "source": []
  }
 ],
 "metadata": {
  "kernelspec": {
   "display_name": "Python 3 (ipykernel)",
   "language": "python",
   "name": "python3"
  },
  "language_info": {
   "codemirror_mode": {
    "name": "ipython",
    "version": 3
   },
   "file_extension": ".py",
   "mimetype": "text/x-python",
   "name": "python",
   "nbconvert_exporter": "python",
   "pygments_lexer": "ipython3",
   "version": "3.11.7"
  }
 },
 "nbformat": 4,
 "nbformat_minor": 5
}
