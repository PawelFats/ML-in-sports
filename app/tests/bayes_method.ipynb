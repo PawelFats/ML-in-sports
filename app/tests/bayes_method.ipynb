{
 "cells": [
  {
   "cell_type": "code",
   "execution_count": 1,
   "id": "85f27ed5",
   "metadata": {},
   "outputs": [],
   "source": [
    "import sys\n",
    "import os\n",
    "import pandas as pd"
   ]
  },
  {
   "cell_type": "code",
   "execution_count": 2,
   "id": "d0489621",
   "metadata": {},
   "outputs": [],
   "source": [
    "app_path = os.path.abspath(os.path.join(os.getcwd(), \"..\"))\n",
    "if app_path not in sys.path:\n",
    "    sys.path.insert(0, app_path)\n",
    "\n",
    "from src.method_bayesian import *"
   ]
  },
  {
   "cell_type": "code",
   "execution_count": 3,
   "id": "1171e1ca",
   "metadata": {},
   "outputs": [],
   "source": [
    "df_games_history = pd.read_csv('../../data/targeted/game_stats_one_r.csv')"
   ]
  },
  {
   "cell_type": "code",
   "execution_count": 4,
   "id": "03f6179d",
   "metadata": {},
   "outputs": [
    {
     "name": "stdout",
     "output_type": "stream",
     "text": [
      "A games: 50\n",
      "B games: 68\n",
      "Рейтинг команды A: 11527.55\n",
      "Рейтинг команды B: 13436.87\n",
      "Вероятность победы команды A: 0.65\n",
      "Вероятность победы команды B: 0.35\n",
      "Информация о последних играх команды A:\n",
      "      ID game  ID team  ID opponent Result_local       date\n",
      "1927    10770        4           17            W 2024-10-13\n",
      "1860    10735       56           17            W 2024-09-29\n",
      "1810    10727      447           17            W 2024-09-21\n",
      "1781    10722      564           17            W 2024-09-14\n",
      "1767    10715       29           17            L 2024-09-08\n",
      "Информация о последних играх команды B:\n",
      "      ID game  ID team  ID opponent Result_local       date\n",
      "1929    10790      333          579            L 2024-10-13\n",
      "1896    10784      333          393            W 2024-10-06\n",
      "1864    10753      333          396            W 2024-09-29\n",
      "1769    10739       92          333            L 2024-09-08\n",
      "1751    10691      333          239            L 2024-07-07\n"
     ]
    }
   ],
   "source": [
    "team_A_id = 17\n",
    "team_B_id = 333\n",
    "recent_games_count = 5\n",
    "\n",
    "prediction = predict_match_outcome(df_games_history, team_A_id, team_B_id, recent_games=recent_games_count)\n",
    "\n",
    "print(\"Рейтинг команды A:\", prediction[\"team_A_rating\"])\n",
    "print(\"Рейтинг команды B:\", prediction[\"team_B_rating\"])\n",
    "print(\"Вероятность победы команды A:\", prediction[\"team_A_win_prob\"])\n",
    "print(\"Вероятность победы команды B:\", prediction[\"team_B_win_prob\"])\n",
    "print(\"Информация о последних играх команды A:\")\n",
    "print(prediction[\"recent_games_info\"][\"team_A\"])\n",
    "print(\"Информация о последних играх команды B:\")\n",
    "print(prediction[\"recent_games_info\"][\"team_B\"])"
   ]
  }
 ],
 "metadata": {
  "kernelspec": {
   "display_name": "base",
   "language": "python",
   "name": "python3"
  },
  "language_info": {
   "codemirror_mode": {
    "name": "ipython",
    "version": 3
   },
   "file_extension": ".py",
   "mimetype": "text/x-python",
   "name": "python",
   "nbconvert_exporter": "python",
   "pygments_lexer": "ipython3",
   "version": "3.11.7"
  }
 },
 "nbformat": 4,
 "nbformat_minor": 5
}
