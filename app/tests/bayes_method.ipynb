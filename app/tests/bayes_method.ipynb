{
 "cells": [
  {
   "cell_type": "code",
   "execution_count": 1,
   "id": "85f27ed5",
   "metadata": {},
   "outputs": [],
   "source": [
    "import sys\n",
    "import os\n",
    "import pandas as pd"
   ]
  },
  {
   "cell_type": "code",
   "execution_count": 2,
   "id": "d0489621",
   "metadata": {},
   "outputs": [],
   "source": [
    "app_path = os.path.abspath(os.path.join(os.getcwd(), \"..\"))\n",
    "if app_path not in sys.path:\n",
    "    sys.path.insert(0, app_path)\n",
    "\n",
    "from src.method_bayesian import *"
   ]
  },
  {
   "cell_type": "code",
   "execution_count": 3,
   "id": "1171e1ca",
   "metadata": {},
   "outputs": [],
   "source": [
    "df_games_history = pd.read_csv('../../data/targeted/game_stats_one_r.csv')"
   ]
  },
  {
   "cell_type": "code",
   "execution_count": 4,
   "id": "8a3a0b1c",
   "metadata": {},
   "outputs": [],
   "source": [
    "# # Задаём ID команд (пример)\n",
    "# team_A_id = 17\n",
    "# team_B_id = 333\n",
    "\n",
    "# prediction = predict_match_outcome(df_games_history, team_A_id, team_B_id, recent_games=5)\n",
    "# print(\"Вероятность победы команды A:\", prediction[\"team_A_win_prob\"])\n",
    "# print(\"Вероятность победы команды B:\", prediction[\"team_B_win_prob\"])"
   ]
  },
  {
   "cell_type": "code",
   "execution_count": null,
   "id": "03f6179d",
   "metadata": {},
   "outputs": [
    {
     "name": "stdout",
     "output_type": "stream",
     "text": [
      "A games: 50\n",
      "B games: 68\n",
      "Вероятность победы команды A: 0.54\n",
      "Вероятность победы команды B: 0.46\n",
      "Информация о последних играх команды A:\n",
      "      ID game  ID team  ID opponent Result_local       date\n",
      "1927    10770        4           17            W 2024-10-13\n",
      "1860    10735       56           17            W 2024-09-29\n",
      "1810    10727      447           17            W 2024-09-21\n",
      "1781    10722      564           17            W 2024-09-14\n",
      "1767    10715       29           17            L 2024-09-08\n",
      "1610    10429       17           49            W 2024-04-20\n",
      "1599    10384       49           17            W 2024-04-14\n",
      "1591    10383       49           17            W 2024-04-13\n",
      "1557    10246       56           17            W 2024-03-31\n",
      "1547    10245       56           17            W 2024-03-30\n",
      "1544    10225       17           56            W 2024-03-24\n",
      "1514    10119       46           17            W 2024-03-20\n",
      "1476    10068       46           17            L 2024-03-10\n",
      "1461    10067       46           17            W 2024-03-09\n",
      "1457    10040       46           17            W 2024-03-03\n",
      "1437    10039       46           17            L 2024-03-02\n",
      "1400     9067       29           17            L 2024-02-24\n",
      "1385     9081       17           56            L 2024-02-18\n",
      "1359     9075       17          505            W 2024-02-11\n",
      "1328     9071      442           17            W 2024-02-04\n",
      "1304     9611       17          555            L 2024-01-28\n",
      "1259     9063       17           49            W 2024-01-20\n",
      "1224     9052       17           46            L 2024-01-13\n",
      "1128     9050      447           17            L 2023-12-03\n",
      "1102     9047       56           17            L 2023-11-26\n",
      "1029     9000      505           17            W 2023-11-05\n",
      "1003     8996       17           49            L 2023-10-29\n",
      "984      8995       17          442            W 2023-10-22\n",
      "937      8887       17            1            W 2023-10-08\n",
      "750      8422        1           17            L 2023-04-09\n",
      "Информация о последних играх команды B:\n",
      "      ID game  ID team  ID opponent Result_local       date\n",
      "1929    10790      333          579            L 2024-10-13\n",
      "1896    10784      333          393            W 2024-10-06\n",
      "1864    10753      333          396            W 2024-09-29\n",
      "1769    10739       92          333            L 2024-09-08\n",
      "1751    10691      333          239            L 2024-07-07\n",
      "1732    10680      393          333            L 2024-06-29\n",
      "1718    10627      333          239            W 2024-06-23\n",
      "1702    10625      333          452            L 2024-06-16\n",
      "1674    10623      333           63            W 2024-06-08\n",
      "1651    10577      333          393            W 2024-05-26\n",
      "1627    10477      333           35            L 2024-04-28\n",
      "1624    10476       35          333            L 2024-04-27\n",
      "1618    10435      333           35            L 2024-04-21\n",
      "1612    10436       35          333            W 2024-04-20\n",
      "1600    10387       35          333            W 2024-04-14\n",
      "1592    10385      333           31            W 2024-04-13\n",
      "1579    10304       31          333            W 2024-04-07\n",
      "1567    10295      333           31            W 2024-04-06\n",
      "1556    10262      333           31            L 2024-03-30\n",
      "1532    10185       31          333            L 2024-03-24\n",
      "1512    10145      333          452            W 2024-03-17\n",
      "1497    10125      452          333            W 2024-03-16\n",
      "1483    10080      333          452            L 2024-03-10\n",
      "1455    10029      333          452            L 2024-03-03\n",
      "1435    10028      333          452            W 2024-03-02\n",
      "1401     9796       15          333            L 2024-02-24\n",
      "1375     9798      333          452            W 2024-02-17\n",
      "1239     9634       31          333            L 2024-01-14\n",
      "1210     9416      333          396            W 2023-12-24\n",
      "1150     9421       92          333            L 2023-12-09\n"
     ]
    }
   ],
   "source": [
    "team_A_id = 17\n",
    "team_B_id = 333\n",
    "recent_games_count = 5\n",
    "\n",
    "prediction = predict_match_outcome(df_games_history, team_A_id, team_B_id, recent_games=recent_games_count)\n",
    "\n",
    "print(\"Вероятность победы команды A:\", prediction[\"team_A_win_prob\"])\n",
    "print(\"Вероятность победы команды B:\", prediction[\"team_B_win_prob\"])\n",
    "print(\"Информация о последних играх команды A:\")\n",
    "print(prediction[\"recent_games_info\"][\"team_A\"])\n",
    "print(\"Информация о последних играх команды B:\")\n",
    "print(prediction[\"recent_games_info\"][\"team_B\"])"
   ]
  }
 ],
 "metadata": {
  "kernelspec": {
   "display_name": "base",
   "language": "python",
   "name": "python3"
  },
  "language_info": {
   "codemirror_mode": {
    "name": "ipython",
    "version": 3
   },
   "file_extension": ".py",
   "mimetype": "text/x-python",
   "name": "python",
   "nbconvert_exporter": "python",
   "pygments_lexer": "ipython3",
   "version": "3.11.7"
  }
 },
 "nbformat": 4,
 "nbformat_minor": 5
}
